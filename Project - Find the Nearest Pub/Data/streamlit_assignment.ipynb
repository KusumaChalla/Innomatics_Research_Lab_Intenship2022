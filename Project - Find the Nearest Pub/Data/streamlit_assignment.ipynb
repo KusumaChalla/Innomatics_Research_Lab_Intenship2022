{
 "cells": [
  {
   "cell_type": "code",
   "execution_count": 259,
   "id": "aefc36cf",
   "metadata": {},
   "outputs": [],
   "source": [
    "import pandas as pd\n",
    "import numpy as np"
   ]
  },
  {
   "cell_type": "code",
   "execution_count": 50,
   "id": "37599646",
   "metadata": {},
   "outputs": [],
   "source": [
    "column_names = ['fsa_id','name','address','postcode','easting','northing','latitude','longitude','local_authority']"
   ]
  },
  {
   "cell_type": "code",
   "execution_count": 51,
   "id": "6648b73b",
   "metadata": {},
   "outputs": [],
   "source": [
    "df = pd.read_csv(\"open_pubs.csv\",names = column_names,header=None)"
   ]
  },
  {
   "cell_type": "code",
   "execution_count": 52,
   "id": "d53fbe18",
   "metadata": {},
   "outputs": [
    {
     "data": {
      "text/html": [
       "<div>\n",
       "<style scoped>\n",
       "    .dataframe tbody tr th:only-of-type {\n",
       "        vertical-align: middle;\n",
       "    }\n",
       "\n",
       "    .dataframe tbody tr th {\n",
       "        vertical-align: top;\n",
       "    }\n",
       "\n",
       "    .dataframe thead th {\n",
       "        text-align: right;\n",
       "    }\n",
       "</style>\n",
       "<table border=\"1\" class=\"dataframe\">\n",
       "  <thead>\n",
       "    <tr style=\"text-align: right;\">\n",
       "      <th></th>\n",
       "      <th>fsa_id</th>\n",
       "      <th>name</th>\n",
       "      <th>address</th>\n",
       "      <th>postcode</th>\n",
       "      <th>easting</th>\n",
       "      <th>northing</th>\n",
       "      <th>latitude</th>\n",
       "      <th>longitude</th>\n",
       "      <th>local_authority</th>\n",
       "    </tr>\n",
       "  </thead>\n",
       "  <tbody>\n",
       "    <tr>\n",
       "      <th>0</th>\n",
       "      <td>22</td>\n",
       "      <td>Anchor Inn</td>\n",
       "      <td>Upper Street, Stratford St Mary, COLCHESTER</td>\n",
       "      <td>CO7 6LW</td>\n",
       "      <td>604749</td>\n",
       "      <td>234404</td>\n",
       "      <td>51.970379</td>\n",
       "      <td>0.979340</td>\n",
       "      <td>Babergh</td>\n",
       "    </tr>\n",
       "    <tr>\n",
       "      <th>1</th>\n",
       "      <td>36</td>\n",
       "      <td>Ark Bar Restaurant</td>\n",
       "      <td>Ark Bar And Restaurant, Cattawade Street, Bran...</td>\n",
       "      <td>CO11 1RH</td>\n",
       "      <td>610194</td>\n",
       "      <td>233329</td>\n",
       "      <td>51.958698</td>\n",
       "      <td>1.057832</td>\n",
       "      <td>Babergh</td>\n",
       "    </tr>\n",
       "    <tr>\n",
       "      <th>2</th>\n",
       "      <td>74</td>\n",
       "      <td>Black Boy</td>\n",
       "      <td>The Lady Elizabeth, 7 Market Hill, SUDBURY, Su...</td>\n",
       "      <td>CO10 2EA</td>\n",
       "      <td>587334</td>\n",
       "      <td>241316</td>\n",
       "      <td>52.038595</td>\n",
       "      <td>0.729915</td>\n",
       "      <td>Babergh</td>\n",
       "    </tr>\n",
       "    <tr>\n",
       "      <th>3</th>\n",
       "      <td>75</td>\n",
       "      <td>Black Horse</td>\n",
       "      <td>Lower Street, Stratford St Mary, COLCHESTER</td>\n",
       "      <td>CO7 6JS</td>\n",
       "      <td>622675</td>\n",
       "      <td>-5527598</td>\n",
       "      <td>\\N</td>\n",
       "      <td>\\N</td>\n",
       "      <td>Babergh</td>\n",
       "    </tr>\n",
       "    <tr>\n",
       "      <th>4</th>\n",
       "      <td>76</td>\n",
       "      <td>Black Lion</td>\n",
       "      <td>Lion Road, Glemsford, SUDBURY</td>\n",
       "      <td>CO10 7RF</td>\n",
       "      <td>622675</td>\n",
       "      <td>-5527598</td>\n",
       "      <td>\\N</td>\n",
       "      <td>\\N</td>\n",
       "      <td>Babergh</td>\n",
       "    </tr>\n",
       "  </tbody>\n",
       "</table>\n",
       "</div>"
      ],
      "text/plain": [
       "   fsa_id                name  \\\n",
       "0      22          Anchor Inn   \n",
       "1      36  Ark Bar Restaurant   \n",
       "2      74           Black Boy   \n",
       "3      75         Black Horse   \n",
       "4      76          Black Lion   \n",
       "\n",
       "                                             address  postcode  easting  \\\n",
       "0        Upper Street, Stratford St Mary, COLCHESTER   CO7 6LW   604749   \n",
       "1  Ark Bar And Restaurant, Cattawade Street, Bran...  CO11 1RH   610194   \n",
       "2  The Lady Elizabeth, 7 Market Hill, SUDBURY, Su...  CO10 2EA   587334   \n",
       "3        Lower Street, Stratford St Mary, COLCHESTER   CO7 6JS   622675   \n",
       "4                      Lion Road, Glemsford, SUDBURY  CO10 7RF   622675   \n",
       "\n",
       "   northing   latitude longitude local_authority  \n",
       "0    234404  51.970379  0.979340         Babergh  \n",
       "1    233329  51.958698  1.057832         Babergh  \n",
       "2    241316  52.038595  0.729915         Babergh  \n",
       "3  -5527598         \\N        \\N         Babergh  \n",
       "4  -5527598         \\N        \\N         Babergh  "
      ]
     },
     "execution_count": 52,
     "metadata": {},
     "output_type": "execute_result"
    }
   ],
   "source": [
    "df.head()"
   ]
  },
  {
   "cell_type": "code",
   "execution_count": 53,
   "id": "b1648e97",
   "metadata": {},
   "outputs": [
    {
     "name": "stdout",
     "output_type": "stream",
     "text": [
      "<class 'pandas.core.frame.DataFrame'>\n",
      "RangeIndex: 51331 entries, 0 to 51330\n",
      "Data columns (total 9 columns):\n",
      " #   Column           Non-Null Count  Dtype \n",
      "---  ------           --------------  ----- \n",
      " 0   fsa_id           51331 non-null  int64 \n",
      " 1   name             51331 non-null  object\n",
      " 2   address          51331 non-null  object\n",
      " 3   postcode         51331 non-null  object\n",
      " 4   easting          51331 non-null  int64 \n",
      " 5   northing         51331 non-null  int64 \n",
      " 6   latitude         51331 non-null  object\n",
      " 7   longitude        51331 non-null  object\n",
      " 8   local_authority  51331 non-null  object\n",
      "dtypes: int64(3), object(6)\n",
      "memory usage: 3.5+ MB\n"
     ]
    }
   ],
   "source": [
    "df.info()"
   ]
  },
  {
   "cell_type": "code",
   "execution_count": 54,
   "id": "8215d4e8",
   "metadata": {},
   "outputs": [],
   "source": [
    "df['name'] = df['name'].astype('string')"
   ]
  },
  {
   "cell_type": "code",
   "execution_count": 55,
   "id": "566c1f7e",
   "metadata": {},
   "outputs": [],
   "source": [
    "df['address'] = df['address'].astype('string')\n",
    "df['postcode'] = df['postcode'].astype('string')\n",
    "df['latitude'] = df['latitude'].astype('string')\n",
    "df['longitude'] = df['longitude'].astype('string')\n",
    "df['local_authority'] = df['local_authority'].astype('string')"
   ]
  },
  {
   "cell_type": "code",
   "execution_count": 56,
   "id": "0b638233",
   "metadata": {},
   "outputs": [
    {
     "name": "stdout",
     "output_type": "stream",
     "text": [
      "<class 'pandas.core.frame.DataFrame'>\n",
      "RangeIndex: 51331 entries, 0 to 51330\n",
      "Data columns (total 9 columns):\n",
      " #   Column           Non-Null Count  Dtype \n",
      "---  ------           --------------  ----- \n",
      " 0   fsa_id           51331 non-null  int64 \n",
      " 1   name             51331 non-null  string\n",
      " 2   address          51331 non-null  string\n",
      " 3   postcode         51331 non-null  string\n",
      " 4   easting          51331 non-null  int64 \n",
      " 5   northing         51331 non-null  int64 \n",
      " 6   latitude         51331 non-null  string\n",
      " 7   longitude        51331 non-null  string\n",
      " 8   local_authority  51331 non-null  string\n",
      "dtypes: int64(3), string(6)\n",
      "memory usage: 3.5 MB\n"
     ]
    }
   ],
   "source": [
    "df.info()"
   ]
  },
  {
   "cell_type": "code",
   "execution_count": 57,
   "id": "dbb48103",
   "metadata": {},
   "outputs": [
    {
     "data": {
      "text/plain": [
       "\\N           767\n",
       "52.896164     10\n",
       "51.310946     10\n",
       "53.178189      9\n",
       "55.318954      8\n",
       "            ... \n",
       "51.787561      1\n",
       "51.784362      1\n",
       "51.779612      1\n",
       "51.730625      1\n",
       "53.076638      1\n",
       "Name: latitude, Length: 46810, dtype: Int64"
      ]
     },
     "execution_count": 57,
     "metadata": {},
     "output_type": "execute_result"
    }
   ],
   "source": [
    "df['latitude'].value_counts()"
   ]
  },
  {
   "cell_type": "code",
   "execution_count": 58,
   "id": "355f5819",
   "metadata": {},
   "outputs": [],
   "source": [
    "df.replace('\\\\N',np.nan,inplace = True)"
   ]
  },
  {
   "cell_type": "code",
   "execution_count": 59,
   "id": "af574641",
   "metadata": {},
   "outputs": [
    {
     "data": {
      "text/plain": [
       "fsa_id               0\n",
       "name                 0\n",
       "address              0\n",
       "postcode             0\n",
       "easting              0\n",
       "northing             0\n",
       "latitude           767\n",
       "longitude          767\n",
       "local_authority      0\n",
       "dtype: int64"
      ]
     },
     "execution_count": 59,
     "metadata": {},
     "output_type": "execute_result"
    }
   ],
   "source": [
    "df.isnull().sum()"
   ]
  },
  {
   "cell_type": "code",
   "execution_count": 60,
   "id": "a2a6d36e",
   "metadata": {},
   "outputs": [
    {
     "data": {
      "text/html": [
       "<div>\n",
       "<style scoped>\n",
       "    .dataframe tbody tr th:only-of-type {\n",
       "        vertical-align: middle;\n",
       "    }\n",
       "\n",
       "    .dataframe tbody tr th {\n",
       "        vertical-align: top;\n",
       "    }\n",
       "\n",
       "    .dataframe thead th {\n",
       "        text-align: right;\n",
       "    }\n",
       "</style>\n",
       "<table border=\"1\" class=\"dataframe\">\n",
       "  <thead>\n",
       "    <tr style=\"text-align: right;\">\n",
       "      <th></th>\n",
       "      <th>fsa_id</th>\n",
       "      <th>name</th>\n",
       "      <th>address</th>\n",
       "      <th>postcode</th>\n",
       "      <th>easting</th>\n",
       "      <th>northing</th>\n",
       "      <th>latitude</th>\n",
       "      <th>longitude</th>\n",
       "      <th>local_authority</th>\n",
       "    </tr>\n",
       "  </thead>\n",
       "  <tbody>\n",
       "    <tr>\n",
       "      <th>0</th>\n",
       "      <td>22</td>\n",
       "      <td>Anchor Inn</td>\n",
       "      <td>Upper Street, Stratford St Mary, COLCHESTER</td>\n",
       "      <td>CO7 6LW</td>\n",
       "      <td>604749</td>\n",
       "      <td>234404</td>\n",
       "      <td>51.970379</td>\n",
       "      <td>0.979340</td>\n",
       "      <td>Babergh</td>\n",
       "    </tr>\n",
       "    <tr>\n",
       "      <th>1</th>\n",
       "      <td>36</td>\n",
       "      <td>Ark Bar Restaurant</td>\n",
       "      <td>Ark Bar And Restaurant, Cattawade Street, Bran...</td>\n",
       "      <td>CO11 1RH</td>\n",
       "      <td>610194</td>\n",
       "      <td>233329</td>\n",
       "      <td>51.958698</td>\n",
       "      <td>1.057832</td>\n",
       "      <td>Babergh</td>\n",
       "    </tr>\n",
       "    <tr>\n",
       "      <th>2</th>\n",
       "      <td>74</td>\n",
       "      <td>Black Boy</td>\n",
       "      <td>The Lady Elizabeth, 7 Market Hill, SUDBURY, Su...</td>\n",
       "      <td>CO10 2EA</td>\n",
       "      <td>587334</td>\n",
       "      <td>241316</td>\n",
       "      <td>52.038595</td>\n",
       "      <td>0.729915</td>\n",
       "      <td>Babergh</td>\n",
       "    </tr>\n",
       "    <tr>\n",
       "      <th>3</th>\n",
       "      <td>97</td>\n",
       "      <td>Brewers Arms</td>\n",
       "      <td>The Brewers Arms, Bower House Tye, Polstead, C...</td>\n",
       "      <td>CO6 5BZ</td>\n",
       "      <td>598743</td>\n",
       "      <td>240655</td>\n",
       "      <td>52.028694</td>\n",
       "      <td>0.895650</td>\n",
       "      <td>Babergh</td>\n",
       "    </tr>\n",
       "    <tr>\n",
       "      <th>4</th>\n",
       "      <td>102</td>\n",
       "      <td>Bristol Arms</td>\n",
       "      <td>Bristol Hill, Shotley, IPSWICH</td>\n",
       "      <td>IP9 1PU</td>\n",
       "      <td>624624</td>\n",
       "      <td>233550</td>\n",
       "      <td>51.955042</td>\n",
       "      <td>1.267642</td>\n",
       "      <td>Babergh</td>\n",
       "    </tr>\n",
       "    <tr>\n",
       "      <th>...</th>\n",
       "      <td>...</td>\n",
       "      <td>...</td>\n",
       "      <td>...</td>\n",
       "      <td>...</td>\n",
       "      <td>...</td>\n",
       "      <td>...</td>\n",
       "      <td>...</td>\n",
       "      <td>...</td>\n",
       "      <td>...</td>\n",
       "    </tr>\n",
       "    <tr>\n",
       "      <th>50559</th>\n",
       "      <td>597119</td>\n",
       "      <td>Wrexham &amp; District War Memorial Club Ltd</td>\n",
       "      <td>Wrexham War Memorial Club Farndon Street, Wrex...</td>\n",
       "      <td>LL13 8DE</td>\n",
       "      <td>333909</td>\n",
       "      <td>350438</td>\n",
       "      <td>53.047100</td>\n",
       "      <td>-2.987319</td>\n",
       "      <td>Wrexham</td>\n",
       "    </tr>\n",
       "    <tr>\n",
       "      <th>50560</th>\n",
       "      <td>597127</td>\n",
       "      <td>Wrexham Lager Social Club</td>\n",
       "      <td>1 - 3 Union Road, Wrexham, Wrexham</td>\n",
       "      <td>LL13 7SR</td>\n",
       "      <td>333028</td>\n",
       "      <td>350563</td>\n",
       "      <td>53.048123</td>\n",
       "      <td>-3.000485</td>\n",
       "      <td>Wrexham</td>\n",
       "    </tr>\n",
       "    <tr>\n",
       "      <th>50561</th>\n",
       "      <td>597130</td>\n",
       "      <td>Wrexham Rail Sports &amp; Social Club</td>\n",
       "      <td>Sports And Social Club, 44 Brook Street, Wrexh...</td>\n",
       "      <td>LL13 7LU</td>\n",
       "      <td>333259</td>\n",
       "      <td>350213</td>\n",
       "      <td>53.044998</td>\n",
       "      <td>-2.996966</td>\n",
       "      <td>Wrexham</td>\n",
       "    </tr>\n",
       "    <tr>\n",
       "      <th>50562</th>\n",
       "      <td>597131</td>\n",
       "      <td>Wrexham Rugby Club</td>\n",
       "      <td>Wrexham Rugby Club Bryn Estyn Road, Wrexham, W...</td>\n",
       "      <td>LL13 9TY</td>\n",
       "      <td>335808</td>\n",
       "      <td>351078</td>\n",
       "      <td>53.053094</td>\n",
       "      <td>-2.959124</td>\n",
       "      <td>Wrexham</td>\n",
       "    </tr>\n",
       "    <tr>\n",
       "      <th>50563</th>\n",
       "      <td>597137</td>\n",
       "      <td>Y Tai</td>\n",
       "      <td>Y Tai Railway Road, Brymbo, Wrexham, Wrexham</td>\n",
       "      <td>LL11 5EA</td>\n",
       "      <td>329721</td>\n",
       "      <td>353785</td>\n",
       "      <td>53.076638</td>\n",
       "      <td>-3.050512</td>\n",
       "      <td>Wrexham</td>\n",
       "    </tr>\n",
       "  </tbody>\n",
       "</table>\n",
       "<p>50564 rows × 9 columns</p>\n",
       "</div>"
      ],
      "text/plain": [
       "       fsa_id                                      name  \\\n",
       "0          22                                Anchor Inn   \n",
       "1          36                        Ark Bar Restaurant   \n",
       "2          74                                 Black Boy   \n",
       "3          97                              Brewers Arms   \n",
       "4         102                              Bristol Arms   \n",
       "...       ...                                       ...   \n",
       "50559  597119  Wrexham & District War Memorial Club Ltd   \n",
       "50560  597127                 Wrexham Lager Social Club   \n",
       "50561  597130         Wrexham Rail Sports & Social Club   \n",
       "50562  597131                        Wrexham Rugby Club   \n",
       "50563  597137                                     Y Tai   \n",
       "\n",
       "                                                 address  postcode  easting  \\\n",
       "0            Upper Street, Stratford St Mary, COLCHESTER   CO7 6LW   604749   \n",
       "1      Ark Bar And Restaurant, Cattawade Street, Bran...  CO11 1RH   610194   \n",
       "2      The Lady Elizabeth, 7 Market Hill, SUDBURY, Su...  CO10 2EA   587334   \n",
       "3      The Brewers Arms, Bower House Tye, Polstead, C...   CO6 5BZ   598743   \n",
       "4                         Bristol Hill, Shotley, IPSWICH   IP9 1PU   624624   \n",
       "...                                                  ...       ...      ...   \n",
       "50559  Wrexham War Memorial Club Farndon Street, Wrex...  LL13 8DE   333909   \n",
       "50560                 1 - 3 Union Road, Wrexham, Wrexham  LL13 7SR   333028   \n",
       "50561  Sports And Social Club, 44 Brook Street, Wrexh...  LL13 7LU   333259   \n",
       "50562  Wrexham Rugby Club Bryn Estyn Road, Wrexham, W...  LL13 9TY   335808   \n",
       "50563       Y Tai Railway Road, Brymbo, Wrexham, Wrexham  LL11 5EA   329721   \n",
       "\n",
       "       northing   latitude  longitude local_authority  \n",
       "0        234404  51.970379   0.979340         Babergh  \n",
       "1        233329  51.958698   1.057832         Babergh  \n",
       "2        241316  52.038595   0.729915         Babergh  \n",
       "3        240655  52.028694   0.895650         Babergh  \n",
       "4        233550  51.955042   1.267642         Babergh  \n",
       "...         ...        ...        ...             ...  \n",
       "50559    350438  53.047100  -2.987319         Wrexham  \n",
       "50560    350563  53.048123  -3.000485         Wrexham  \n",
       "50561    350213  53.044998  -2.996966         Wrexham  \n",
       "50562    351078  53.053094  -2.959124         Wrexham  \n",
       "50563    353785  53.076638  -3.050512         Wrexham  \n",
       "\n",
       "[50564 rows x 9 columns]"
      ]
     },
     "execution_count": 60,
     "metadata": {},
     "output_type": "execute_result"
    }
   ],
   "source": [
    "df = df.dropna()\n",
    "df = df.reset_index(drop = True)\n",
    "df"
   ]
  },
  {
   "cell_type": "code",
   "execution_count": 61,
   "id": "1a340df6",
   "metadata": {
    "scrolled": true
   },
   "outputs": [
    {
     "data": {
      "text/plain": [
       "fsa_id             0\n",
       "name               0\n",
       "address            0\n",
       "postcode           0\n",
       "easting            0\n",
       "northing           0\n",
       "latitude           0\n",
       "longitude          0\n",
       "local_authority    0\n",
       "dtype: int64"
      ]
     },
     "execution_count": 61,
     "metadata": {},
     "output_type": "execute_result"
    }
   ],
   "source": [
    "df.isnull().sum()"
   ]
  },
  {
   "cell_type": "code",
   "execution_count": 62,
   "id": "e6b36bbf",
   "metadata": {},
   "outputs": [
    {
     "name": "stdout",
     "output_type": "stream",
     "text": [
      "<class 'pandas.core.frame.DataFrame'>\n",
      "RangeIndex: 50564 entries, 0 to 50563\n",
      "Data columns (total 9 columns):\n",
      " #   Column           Non-Null Count  Dtype \n",
      "---  ------           --------------  ----- \n",
      " 0   fsa_id           50564 non-null  int64 \n",
      " 1   name             50564 non-null  string\n",
      " 2   address          50564 non-null  string\n",
      " 3   postcode         50564 non-null  string\n",
      " 4   easting          50564 non-null  int64 \n",
      " 5   northing         50564 non-null  int64 \n",
      " 6   latitude         50564 non-null  string\n",
      " 7   longitude        50564 non-null  string\n",
      " 8   local_authority  50564 non-null  string\n",
      "dtypes: int64(3), string(6)\n",
      "memory usage: 3.5 MB\n"
     ]
    }
   ],
   "source": [
    "df.info()"
   ]
  },
  {
   "cell_type": "code",
   "execution_count": 63,
   "id": "eac0f4d9",
   "metadata": {},
   "outputs": [],
   "source": [
    "df['latitude'] = df['latitude'].astype('float64')\n",
    "df['longitude'] = df['longitude'].astype('float64')"
   ]
  },
  {
   "cell_type": "code",
   "execution_count": 64,
   "id": "84c87775",
   "metadata": {},
   "outputs": [
    {
     "name": "stdout",
     "output_type": "stream",
     "text": [
      "<class 'pandas.core.frame.DataFrame'>\n",
      "RangeIndex: 50564 entries, 0 to 50563\n",
      "Data columns (total 9 columns):\n",
      " #   Column           Non-Null Count  Dtype  \n",
      "---  ------           --------------  -----  \n",
      " 0   fsa_id           50564 non-null  int64  \n",
      " 1   name             50564 non-null  string \n",
      " 2   address          50564 non-null  string \n",
      " 3   postcode         50564 non-null  string \n",
      " 4   easting          50564 non-null  int64  \n",
      " 5   northing         50564 non-null  int64  \n",
      " 6   latitude         50564 non-null  float64\n",
      " 7   longitude        50564 non-null  float64\n",
      " 8   local_authority  50564 non-null  string \n",
      "dtypes: float64(2), int64(3), string(4)\n",
      "memory usage: 3.5 MB\n"
     ]
    }
   ],
   "source": [
    "df.info()"
   ]
  },
  {
   "cell_type": "code",
   "execution_count": 65,
   "id": "d755ae37",
   "metadata": {},
   "outputs": [],
   "source": [
    "df.to_csv('pubs_data.csv')"
   ]
  },
  {
   "cell_type": "code",
   "execution_count": 69,
   "id": "339ba0f8",
   "metadata": {},
   "outputs": [],
   "source": [
    "df1 = pd.read_csv('pubs_data.csv')"
   ]
  },
  {
   "cell_type": "code",
   "execution_count": 70,
   "id": "c9dab04c",
   "metadata": {},
   "outputs": [
    {
     "name": "stdout",
     "output_type": "stream",
     "text": [
      "<class 'pandas.core.frame.DataFrame'>\n",
      "RangeIndex: 50564 entries, 0 to 50563\n",
      "Data columns (total 10 columns):\n",
      " #   Column           Non-Null Count  Dtype  \n",
      "---  ------           --------------  -----  \n",
      " 0   Unnamed: 0       50564 non-null  int64  \n",
      " 1   fsa_id           50564 non-null  int64  \n",
      " 2   name             50564 non-null  object \n",
      " 3   address          50564 non-null  object \n",
      " 4   postcode         50564 non-null  object \n",
      " 5   easting          50564 non-null  int64  \n",
      " 6   northing         50564 non-null  int64  \n",
      " 7   latitude         50564 non-null  float64\n",
      " 8   longitude        50564 non-null  float64\n",
      " 9   local_authority  50564 non-null  object \n",
      "dtypes: float64(2), int64(4), object(4)\n",
      "memory usage: 3.9+ MB\n"
     ]
    }
   ],
   "source": [
    "df1.info()"
   ]
  },
  {
   "cell_type": "code",
   "execution_count": 108,
   "id": "f9e9ef29",
   "metadata": {},
   "outputs": [],
   "source": [
    "df1['address'] = df['address'].astype('string')\n",
    "df1['postcode'] = df['postcode'].astype('string')\n",
    "df1['latitude'] = df['latitude'].astype('float64')\n",
    "df1['longitude'] = df['longitude'].astype('float64')\n",
    "df1['local_authority'] = df['local_authority'].astype('string')"
   ]
  },
  {
   "cell_type": "code",
   "execution_count": 109,
   "id": "e874da87",
   "metadata": {
    "scrolled": true
   },
   "outputs": [
    {
     "name": "stdout",
     "output_type": "stream",
     "text": [
      "<class 'pandas.core.frame.DataFrame'>\n",
      "RangeIndex: 50564 entries, 0 to 50563\n",
      "Data columns (total 10 columns):\n",
      " #   Column           Non-Null Count  Dtype  \n",
      "---  ------           --------------  -----  \n",
      " 0   Unnamed: 0       50564 non-null  int64  \n",
      " 1   fsa_id           50564 non-null  int64  \n",
      " 2   name             50564 non-null  string \n",
      " 3   address          50564 non-null  string \n",
      " 4   postcode         50564 non-null  string \n",
      " 5   easting          50564 non-null  int64  \n",
      " 6   northing         50564 non-null  int64  \n",
      " 7   latitude         50564 non-null  float64\n",
      " 8   longitude        50564 non-null  float64\n",
      " 9   local_authority  50564 non-null  string \n",
      "dtypes: float64(2), int64(4), string(4)\n",
      "memory usage: 3.9 MB\n"
     ]
    }
   ],
   "source": [
    "df1.info()"
   ]
  }
 ],
 "metadata": {
  "kernelspec": {
   "display_name": "Python 3 (ipykernel)",
   "language": "python",
   "name": "python3"
  },
  "language_info": {
   "codemirror_mode": {
    "name": "ipython",
    "version": 3
   },
   "file_extension": ".py",
   "mimetype": "text/x-python",
   "name": "python",
   "nbconvert_exporter": "python",
   "pygments_lexer": "ipython3",
   "version": "3.9.7"
  }
 },
 "nbformat": 4,
 "nbformat_minor": 5
}
